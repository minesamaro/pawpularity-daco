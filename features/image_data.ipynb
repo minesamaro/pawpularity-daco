{
 "cells": [
  {
   "cell_type": "code",
   "execution_count": 2,
   "metadata": {},
   "outputs": [],
   "source": [
    "import os\n",
    "import seaborn as sns\n",
    "import pandas as pd\n",
    "from glob import glob\n",
    "import numpy as np\n",
    "import matplotlib.pyplot as plt\n",
    "import cv2 as cv\n",
    "from skimage.filters import gabor\n",
    "from skimage import img_as_ubyte\n",
    "from skimage.feature import local_binary_pattern\n",
    "import mahotas\n",
    "from skimage.feature import hog"
   ]
  },
  {
   "cell_type": "code",
   "execution_count": 2,
   "metadata": {},
   "outputs": [
    {
     "name": "stdout",
     "output_type": "stream",
     "text": [
      "                                 Id  Pawpularity\n",
      "0  0007de18844b0dbbb5e1f607da0606e0           63\n",
      "1  0009c66b9439883ba2750fb825e1d7db           42\n",
      "2  0013fd999caf9a3efe1352ca1b0d937e           28\n",
      "3  0018df346ac9c1d8413cfcc888ca8246           15\n",
      "4  001dc955e10590d3ca4673f034feeef2           72\n"
     ]
    }
   ],
   "source": [
    "\n",
    "# Load training data\n",
    "train_data = pd.read_csv('train.csv')\n",
    "train_data = train_data.iloc[:, [0, -1]]\n",
    "print(train_data.head())"
   ]
  },
  {
   "cell_type": "code",
   "execution_count": 4,
   "metadata": {},
   "outputs": [
    {
     "name": "stdout",
     "output_type": "stream",
     "text": [
      "                                 Id  Pawpularity_x  gabor_mean  haralick_0  \\\n",
      "0  0007de18844b0dbbb5e1f607da0606e0             63   41.231567    0.000157   \n",
      "1  0009c66b9439883ba2750fb825e1d7db             42   23.987915    0.000773   \n",
      "2  0013fd999caf9a3efe1352ca1b0d937e             28   24.436279    0.000233   \n",
      "3  0018df346ac9c1d8413cfcc888ca8246             15   26.991699    0.000493   \n",
      "4  001dc955e10590d3ca4673f034feeef2             72   39.300049    0.000133   \n",
      "\n",
      "    haralick_1  haralick_2   haralick_3  haralick_4  haralick_5    haralick_6  \\\n",
      "0  1278.492804    0.690157  2060.880358    0.062406  298.598931   6965.028630   \n",
      "1   457.965407    0.925960  3091.327100    0.281047  191.414256  11907.342991   \n",
      "2   724.338070    0.891415  3337.386293    0.116865  233.633501  12625.207100   \n",
      "3   598.241637    0.880039  2493.181218    0.201182  313.177373   9374.483237   \n",
      "4  1450.048193    0.750709  2908.689995    0.067109  258.257568  10184.711786   \n",
      "\n",
      "   ...  saturation  lbp_mean  Pawpularity_y  total_entropy    mean_red  \\\n",
      "0  ...   27.319691  5.505371             63   3.516038e+05  151.938206   \n",
      "1  ...   65.349005  4.809814             42   1.033999e+06  105.576343   \n",
      "2  ...  100.126137  5.159180             28   8.513255e+05   98.560262   \n",
      "3  ...   27.411351  5.082520             15   3.270761e+05  159.795840   \n",
      "4  ...   35.355345  5.306152             72   6.615607e+05  134.995183   \n",
      "\n",
      "   mean_green   mean_blue  variance_red  variance_green  variance_blue  \n",
      "0  149.545123  144.122689   2238.613709     2227.727648    2463.395510  \n",
      "1   92.576127   84.783391   3040.721224     3139.720148    3187.482120  \n",
      "2  126.243099  121.493475   5192.512454     3057.633209    2988.992238  \n",
      "3  156.455110  152.020652   2100.421642     2640.349329    3222.201055  \n",
      "4  127.571672  123.183835   2816.739396     3109.099948    3252.514503  \n",
      "\n",
      "[5 rows x 26 columns]\n"
     ]
    }
   ],
   "source": [
    "# create a dataframe to store the all the features\n",
    "import features\n",
    "\n",
    "df1= features.final_df.copy()\n",
    "\n",
    "import features2\n",
    "df2= features2.final_df.copy()\n",
    "\n",
    "merged_df = pd.merge(df1, df2, on='Id')\n",
    "print(merged_df.head())\n",
    "\n",
    "# save the dataframe as a csv file\n",
    "merged_df.to_csv('features.csv', index=False)\n",
    "\n",
    "\n",
    "\n"
   ]
  },
  {
   "cell_type": "code",
   "execution_count": 5,
   "metadata": {},
   "outputs": [],
   "source": [
    "#read the csv file\n",
    "\n",
    "merged_df = pd.read_csv('features.csv')\n",
    "\n",
    "#remove the duplicate columns\n",
    "#merged_df['Pawpularity'] = merged_df['Pawpularity_x'].combine_first(merged_df['Pawpularity_y'])\n",
    "\n",
    "# Drop the original 'Pawpularity_x' and 'Pawpularity_y' columns\n",
    "#merged_df = merged_df.drop(columns=['Pawpularity_x', 'Pawpularity_y'])\n",
    "\n",
    "\n",
    "# Reorganize the columns\n",
    "merged_df = merged_df[['Id', 'gabor_mean','haralick_0','haralick_1','haralick_2', 'haralick_3','haralick_4','haralick_5','haralick_6','haralick_7','haralick_8','haralick_9','haralick_10','haralick_11','haralick_12','saturation','lbp_mean','total_entropy','mean_red','mean_green','mean_blue','variance_red','variance_green','variance_blue', 'Pawpularity']]\n",
    "\n",
    "\n",
    "# Salve \n",
    "merged_df.to_csv('features.csv', index=False)"
   ]
  },
  {
   "cell_type": "code",
   "execution_count": 8,
   "metadata": {},
   "outputs": [],
   "source": [
    "#read the csv file\n",
    "merged_df = pd.read_csv('features.csv')\n",
    "# Normalize Pawpolarity by dividing it by 100\n",
    "merged_df['Pawpularity_normalized'] = (merged_df['Pawpularity'] / 100)\n",
    "# Salve \n",
    "merged_df.to_csv('features.csv', index=False)"
   ]
  }
 ],
 "metadata": {
  "kernelspec": {
   "display_name": "base",
   "language": "python",
   "name": "python3"
  },
  "language_info": {
   "codemirror_mode": {
    "name": "ipython",
    "version": 3
   },
   "file_extension": ".py",
   "mimetype": "text/x-python",
   "name": "python",
   "nbconvert_exporter": "python",
   "pygments_lexer": "ipython3",
   "version": "3.11.4"
  }
 },
 "nbformat": 4,
 "nbformat_minor": 2
}
