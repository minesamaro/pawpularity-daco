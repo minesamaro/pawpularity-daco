{
 "cells": [
  {
   "cell_type": "code",
   "execution_count": 9,
   "metadata": {},
   "outputs": [
    {
     "name": "stdout",
     "output_type": "stream",
     "text": [
      "Requirement already satisfied: numpy in c:\\users\\hp\\appdata\\local\\programs\\python\\python311\\lib\\site-packages (from -r requirements.txt (line 1)) (1.25.2)Note: you may need to restart the kernel to use updated packages.\n",
      "\n",
      "Requirement already satisfied: pandas in c:\\users\\hp\\appdata\\local\\programs\\python\\python311\\lib\\site-packages (from -r requirements.txt (line 2)) (2.0.3)\n",
      "Requirement already satisfied: matplotlib in c:\\users\\hp\\appdata\\local\\programs\\python\\python311\\lib\\site-packages (from -r requirements.txt (line 3)) (3.7.2)\n",
      "Requirement already satisfied: seaborn in c:\\users\\hp\\appdata\\local\\programs\\python\\python311\\lib\\site-packages (from -r requirements.txt (line 4)) (0.13.0)\n",
      "Requirement already satisfied: mlxtend in c:\\users\\hp\\appdata\\local\\programs\\python\\python311\\lib\\site-packages (from -r requirements.txt (line 5)) (0.23.0)\n",
      "Requirement already satisfied: scikit-learn in c:\\users\\hp\\appdata\\local\\programs\\python\\python311\\lib\\site-packages (from -r requirements.txt (line 6)) (1.3.0)\n",
      "Requirement already satisfied: scipy in c:\\users\\hp\\appdata\\local\\programs\\python\\python311\\lib\\site-packages (from -r requirements.txt (line 7)) (1.11.1)\n",
      "Collecting skimage (from -r requirements.txt (line 8))\n",
      "  Downloading skimage-0.0.tar.gz (757 bytes)\n",
      "  Installing build dependencies: started\n",
      "  Installing build dependencies: finished with status 'done'\n",
      "  Getting requirements to build wheel: started\n",
      "  Getting requirements to build wheel: finished with status 'error'\n"
     ]
    },
    {
     "name": "stderr",
     "output_type": "stream",
     "text": [
      "  error: subprocess-exited-with-error\n",
      "  \n",
      "  × Getting requirements to build wheel did not run successfully.\n",
      "  │ exit code: 1\n",
      "  ╰─> [3 lines of output]\n",
      "      \n",
      "      *** Please install the `scikit-image` package (instead of `skimage`) ***\n",
      "      \n",
      "      [end of output]\n",
      "  \n",
      "  note: This error originates from a subprocess, and is likely not a problem with pip.\n",
      "error: subprocess-exited-with-error\n",
      "\n",
      "× Getting requirements to build wheel did not run successfully.\n",
      "│ exit code: 1\n",
      "╰─> See above for output.\n",
      "\n",
      "note: This error originates from a subprocess, and is likely not a problem with pip.\n",
      "\n",
      "[notice] A new release of pip is available: 23.3.1 -> 23.3.2\n",
      "[notice] To update, run: python.exe -m pip install --upgrade pip\n"
     ]
    }
   ],
   "source": [
    "pip install -r requirements.txt"
   ]
  },
  {
   "cell_type": "code",
   "execution_count": 1,
   "metadata": {},
   "outputs": [
    {
     "data": {
      "text/html": [
       "<div>\n",
       "<style scoped>\n",
       "    .dataframe tbody tr th:only-of-type {\n",
       "        vertical-align: middle;\n",
       "    }\n",
       "\n",
       "    .dataframe tbody tr th {\n",
       "        vertical-align: top;\n",
       "    }\n",
       "\n",
       "    .dataframe thead th {\n",
       "        text-align: right;\n",
       "    }\n",
       "</style>\n",
       "<table border=\"1\" class=\"dataframe\">\n",
       "  <thead>\n",
       "    <tr style=\"text-align: right;\">\n",
       "      <th></th>\n",
       "      <th>Id</th>\n",
       "      <th>gabor_mean</th>\n",
       "      <th>haralick_0</th>\n",
       "      <th>haralick_1</th>\n",
       "      <th>haralick_2</th>\n",
       "      <th>haralick_3</th>\n",
       "      <th>haralick_4</th>\n",
       "      <th>haralick_5</th>\n",
       "      <th>haralick_6</th>\n",
       "      <th>haralick_7</th>\n",
       "      <th>...</th>\n",
       "      <th>Face</th>\n",
       "      <th>Near</th>\n",
       "      <th>Action</th>\n",
       "      <th>Accessory</th>\n",
       "      <th>Group</th>\n",
       "      <th>Collage</th>\n",
       "      <th>Human</th>\n",
       "      <th>Occlusion</th>\n",
       "      <th>Info</th>\n",
       "      <th>Blur</th>\n",
       "    </tr>\n",
       "  </thead>\n",
       "  <tbody>\n",
       "    <tr>\n",
       "      <th>0</th>\n",
       "      <td>0007de18844b0dbbb5e1f607da0606e0</td>\n",
       "      <td>41.231567</td>\n",
       "      <td>0.000157</td>\n",
       "      <td>1278.492804</td>\n",
       "      <td>0.690157</td>\n",
       "      <td>2060.880358</td>\n",
       "      <td>0.062406</td>\n",
       "      <td>298.598931</td>\n",
       "      <td>6965.028630</td>\n",
       "      <td>8.182493</td>\n",
       "      <td>...</td>\n",
       "      <td>1</td>\n",
       "      <td>1</td>\n",
       "      <td>0</td>\n",
       "      <td>0</td>\n",
       "      <td>1</td>\n",
       "      <td>0</td>\n",
       "      <td>0</td>\n",
       "      <td>0</td>\n",
       "      <td>0</td>\n",
       "      <td>0</td>\n",
       "    </tr>\n",
       "    <tr>\n",
       "      <th>1</th>\n",
       "      <td>0009c66b9439883ba2750fb825e1d7db</td>\n",
       "      <td>23.987915</td>\n",
       "      <td>0.000773</td>\n",
       "      <td>457.965407</td>\n",
       "      <td>0.925960</td>\n",
       "      <td>3091.327100</td>\n",
       "      <td>0.281047</td>\n",
       "      <td>191.414256</td>\n",
       "      <td>11907.342991</td>\n",
       "      <td>8.376357</td>\n",
       "      <td>...</td>\n",
       "      <td>1</td>\n",
       "      <td>0</td>\n",
       "      <td>0</td>\n",
       "      <td>0</td>\n",
       "      <td>0</td>\n",
       "      <td>0</td>\n",
       "      <td>0</td>\n",
       "      <td>0</td>\n",
       "      <td>0</td>\n",
       "      <td>0</td>\n",
       "    </tr>\n",
       "    <tr>\n",
       "      <th>2</th>\n",
       "      <td>0013fd999caf9a3efe1352ca1b0d937e</td>\n",
       "      <td>24.436279</td>\n",
       "      <td>0.000233</td>\n",
       "      <td>724.338070</td>\n",
       "      <td>0.891415</td>\n",
       "      <td>3337.386293</td>\n",
       "      <td>0.116865</td>\n",
       "      <td>233.633501</td>\n",
       "      <td>12625.207100</td>\n",
       "      <td>8.503799</td>\n",
       "      <td>...</td>\n",
       "      <td>1</td>\n",
       "      <td>1</td>\n",
       "      <td>0</td>\n",
       "      <td>0</td>\n",
       "      <td>0</td>\n",
       "      <td>0</td>\n",
       "      <td>1</td>\n",
       "      <td>1</td>\n",
       "      <td>0</td>\n",
       "      <td>0</td>\n",
       "    </tr>\n",
       "    <tr>\n",
       "      <th>3</th>\n",
       "      <td>0018df346ac9c1d8413cfcc888ca8246</td>\n",
       "      <td>26.991699</td>\n",
       "      <td>0.000493</td>\n",
       "      <td>598.241637</td>\n",
       "      <td>0.880039</td>\n",
       "      <td>2493.181218</td>\n",
       "      <td>0.201182</td>\n",
       "      <td>313.177373</td>\n",
       "      <td>9374.483237</td>\n",
       "      <td>8.374829</td>\n",
       "      <td>...</td>\n",
       "      <td>1</td>\n",
       "      <td>1</td>\n",
       "      <td>0</td>\n",
       "      <td>0</td>\n",
       "      <td>0</td>\n",
       "      <td>0</td>\n",
       "      <td>0</td>\n",
       "      <td>0</td>\n",
       "      <td>0</td>\n",
       "      <td>0</td>\n",
       "    </tr>\n",
       "    <tr>\n",
       "      <th>4</th>\n",
       "      <td>001dc955e10590d3ca4673f034feeef2</td>\n",
       "      <td>39.300049</td>\n",
       "      <td>0.000133</td>\n",
       "      <td>1450.048193</td>\n",
       "      <td>0.750709</td>\n",
       "      <td>2908.689995</td>\n",
       "      <td>0.067109</td>\n",
       "      <td>258.257568</td>\n",
       "      <td>10184.711786</td>\n",
       "      <td>8.591187</td>\n",
       "      <td>...</td>\n",
       "      <td>0</td>\n",
       "      <td>1</td>\n",
       "      <td>0</td>\n",
       "      <td>0</td>\n",
       "      <td>1</td>\n",
       "      <td>0</td>\n",
       "      <td>0</td>\n",
       "      <td>0</td>\n",
       "      <td>0</td>\n",
       "      <td>0</td>\n",
       "    </tr>\n",
       "  </tbody>\n",
       "</table>\n",
       "<p>5 rows × 57 columns</p>\n",
       "</div>"
      ],
      "text/plain": [
       "                                 Id  gabor_mean  haralick_0   haralick_1  \\\n",
       "0  0007de18844b0dbbb5e1f607da0606e0   41.231567    0.000157  1278.492804   \n",
       "1  0009c66b9439883ba2750fb825e1d7db   23.987915    0.000773   457.965407   \n",
       "2  0013fd999caf9a3efe1352ca1b0d937e   24.436279    0.000233   724.338070   \n",
       "3  0018df346ac9c1d8413cfcc888ca8246   26.991699    0.000493   598.241637   \n",
       "4  001dc955e10590d3ca4673f034feeef2   39.300049    0.000133  1450.048193   \n",
       "\n",
       "   haralick_2   haralick_3  haralick_4  haralick_5    haralick_6  haralick_7  \\\n",
       "0    0.690157  2060.880358    0.062406  298.598931   6965.028630    8.182493   \n",
       "1    0.925960  3091.327100    0.281047  191.414256  11907.342991    8.376357   \n",
       "2    0.891415  3337.386293    0.116865  233.633501  12625.207100    8.503799   \n",
       "3    0.880039  2493.181218    0.201182  313.177373   9374.483237    8.374829   \n",
       "4    0.750709  2908.689995    0.067109  258.257568  10184.711786    8.591187   \n",
       "\n",
       "   ...  Face  Near  Action  Accessory  Group  Collage  Human  Occlusion  Info  \\\n",
       "0  ...     1     1       0          0      1        0      0          0     0   \n",
       "1  ...     1     0       0          0      0        0      0          0     0   \n",
       "2  ...     1     1       0          0      0        0      1          1     0   \n",
       "3  ...     1     1       0          0      0        0      0          0     0   \n",
       "4  ...     0     1       0          0      1        0      0          0     0   \n",
       "\n",
       "   Blur  \n",
       "0     0  \n",
       "1     0  \n",
       "2     0  \n",
       "3     0  \n",
       "4     0  \n",
       "\n",
       "[5 rows x 57 columns]"
      ]
     },
     "execution_count": 1,
     "metadata": {},
     "output_type": "execute_result"
    }
   ],
   "source": [
    "import numpy as np\n",
    "import pandas as pd\n",
    "import matplotlib.pyplot as plt\n",
    "import seaborn as sns\n",
    "from sklearn.model_selection import train_test_split\n",
    "from sklearn.linear_model import LinearRegression\n",
    "from sklearn.metrics import mean_squared_error, r2_score\n",
    "\n",
    "\n",
    "train_image_data = pd.read_csv('features.csv')\n",
    "\n",
    "# Load the metadata file and concatenate it with the image data by id\n",
    "\n",
    "metadata = pd.read_csv('train.csv')\n",
    "\n",
    "# concatenate the metadata with the image data by Id collumn, drop the Pawpularity column from the metadata\n",
    "train_data = pd.merge(train_image_data, metadata.drop('Pawpularity', axis=1), on='Id', how='outer')\n",
    "train_data.head()\n"
   ]
  },
  {
   "cell_type": "code",
   "execution_count": 7,
   "metadata": {},
   "outputs": [
    {
     "data": {
      "text/plain": [
       "Index(['Id', 'gabor_mean', 'haralick_0', 'haralick_1', 'haralick_2',\n",
       "       'haralick_3', 'haralick_4', 'haralick_5', 'haralick_6', 'haralick_7',\n",
       "       'haralick_8', 'haralick_9', 'haralick_10', 'haralick_11', 'haralick_12',\n",
       "       'saturation', 'lbp_mean', 'total_entropy', 'mean_red', 'mean_green',\n",
       "       'mean_blue', 'variance_red', 'variance_green', 'variance_blue',\n",
       "       'hog_95', 'hog_49', 'hog_27', 'hog_88', 'hog_103', 'hog_28', 'hog_31',\n",
       "       'hog_96', 'hog_30', 'hog_100', 'hog_90', 'hog_41', 'hog_99', 'hog_35',\n",
       "       'hog_50', 'hog_36', 'hog_92', 'hog_159', 'hog_91', 'hog_19',\n",
       "       'Pawpularity'],\n",
       "      dtype='object')"
      ]
     },
     "execution_count": 7,
     "metadata": {},
     "output_type": "execute_result"
    }
   ],
   "source": [
    "\n",
    "# Get the name of the columns starting with hog_\n",
    "feature_names = train_image_data.columns\n",
    "feature_names"
   ]
  },
  {
   "cell_type": "code",
   "execution_count": 14,
   "metadata": {},
   "outputs": [
    {
     "name": "stdout",
     "output_type": "stream",
     "text": [
      "X_train shape: (7929, 55)\n",
      "y_train shape: (7929,)\n",
      "X_val shape: (1983, 55)\n",
      "y_val shape: (1983,)\n"
     ]
    }
   ],
   "source": [
    "X = train_data.iloc[:, 1:-1] #except the last and the first(Id)\n",
    "y = train_data['Pawpularity']\n",
    "\n",
    "# Split the data into training and validation sets\n",
    "X_train, X_val, y_train, y_val = train_test_split(X, y, test_size=0.2, random_state=42)\n",
    "\n",
    "# Print the shapes of the training and validation sets\n",
    "print(\"X_train shape:\", X_train.shape)\n",
    "print(\"y_train shape:\", y_train.shape)\n",
    "print(\"X_val shape:\", X_val.shape)\n",
    "print(\"y_val shape:\", y_val.shape)\n"
   ]
  },
  {
   "cell_type": "code",
   "execution_count": 25,
   "metadata": {},
   "outputs": [
    {
     "name": "stderr",
     "output_type": "stream",
     "text": [
      "C:\\Users\\HP\\AppData\\Local\\Temp\\ipykernel_19604\\4022925016.py:5: UserWarning: \n",
      "\n",
      "`distplot` is a deprecated function and will be removed in seaborn v0.14.0.\n",
      "\n",
      "Please adapt your code to use either `displot` (a figure-level function with\n",
      "similar flexibility) or `histplot` (an axes-level function for histograms).\n",
      "\n",
      "For a guide to updating your code to use the new functions, please see\n",
      "https://gist.github.com/mwaskom/de44147ed2974457ad6372750bbe5751\n",
      "\n",
      "  sns.distplot(y_train)\n"
     ]
    },
    {
     "data": {
      "image/png": "[encoded data removed]",
      "text/plain": [
       "<Figure size 640x480 with 1 Axes>"
      ]
     },
     "metadata": {},
     "output_type": "display_data"
    },
    {
     "name": "stdout",
     "output_type": "stream",
     "text": [
      "Total number of outliers:  221\n"
     ]
    },
    {
     "name": "stderr",
     "output_type": "stream",
     "text": [
      "C:\\Users\\HP\\AppData\\Local\\Temp\\ipykernel_19604\\4022925016.py:19: UserWarning: \n",
      "\n",
      "`distplot` is a deprecated function and will be removed in seaborn v0.14.0.\n",
      "\n",
      "Please adapt your code to use either `displot` (a figure-level function with\n",
      "similar flexibility) or `histplot` (an axes-level function for histograms).\n",
      "\n",
      "For a guide to updating your code to use the new functions, please see\n",
      "https://gist.github.com/mwaskom/de44147ed2974457ad6372750bbe5751\n",
      "\n",
      "  sns.distplot(of_y_train)\n"
     ]
    },
    {
     "data": {
      "image/png": "[encoded data removed]",
      "text/plain": [
       "<Figure size 640x480 with 1 Axes>"
      ]
     },
     "metadata": {},
     "output_type": "display_data"
    },
    {
     "name": "stdout",
     "output_type": "stream",
     "text": [
      "Mean before outlier removal: 0.38036196241644593\n",
      "Standard deviation before outlier removal: 0.2048104984883986\n",
      "Mean after outlier removal: 0.3625960041515309\n",
      "Standard deviation after outlier removal: 0.17839826539114023\n"
     ]
    }
   ],
   "source": [
    "from scipy.stats import zscore\n",
    "# Remove the outliers from the training set\n",
    "\n",
    "# Plot the target variable distribution\n",
    "sns.distplot(y_train)\n",
    "plt.show()\n",
    "\n",
    "# Identify the outliers\n",
    "outliers = [x for x in y_train if x >= 1]\n",
    "print(\"Total number of outliers: \", len(outliers))\n",
    "\n",
    "# Remove the outliers from the features\n",
    "of_X_train = X_train[y_train < 1]\n",
    "\n",
    "# Remove the outliers\n",
    "of_y_train = y_train[y_train < 1]\n",
    "\n",
    "# Plot the target distribution again to see if the outliers have been removed\n",
    "sns.distplot(of_y_train)\n",
    "plt.show()\n",
    "\n",
    "# Print statistics before and after removing the outliers\n",
    "print(\"Mean before outlier removal:\", np.mean(y_train))\n",
    "print(\"Standard deviation before outlier removal:\", np.std(y_train))\n",
    "print(\"Mean after outlier removal:\", np.mean(of_y_train))\n",
    "print(\"Standard deviation after outlier removal:\", np.std(of_y_train))"
   ]
  },
  {
   "cell_type": "code",
   "execution_count": 16,
   "metadata": {},
   "outputs": [
    {
     "name": "stdout",
     "output_type": "stream",
     "text": [
      "Selected Features: Index(['haralick_0', 'haralick_1', 'haralick_2', 'haralick_3', 'haralick_4',\n",
      "       'haralick_6', 'haralick_9', 'haralick_11', 'haralick_12', 'lbp_mean',\n",
      "       'hog_49', 'hog_28', 'hog_41', 'hog_50', 'hog_91', 'hog_19',\n",
      "       'Pawpularity', 'Subject Focus'],\n",
      "      dtype='object')\n",
      "Coefficients: [-4.13780671e-16 -1.41287467e-06 -4.00832124e-16  5.65149868e-06\n",
      " -4.70886016e-16 -1.41287467e-06  3.27134956e-13  6.71860913e-16\n",
      "  1.02083956e-14  9.98572385e-17  1.89554752e-17 -6.00758438e-17\n",
      " -1.00091303e-16 -1.19359683e-16  1.09210608e-16 -3.45758993e-16\n",
      "  1.00000000e+00  1.33154232e-16]\n",
      "Mean squared error: 0.00000\n",
      "Coefficient of determination: 1.00000\n"
     ]
    },
    {
     "data": {
      "image/png": "[encoded data removed]",
      "text/plain": [
       "<Figure size 640x480 with 1 Axes>"
      ]
     },
     "metadata": {},
     "output_type": "display_data"
    }
   ],
   "source": [
    "from sklearn.feature_selection import RFE\n",
    "\n",
    "# Train the model\n",
    "model = LinearRegression()\n",
    "rfe=RFE(model,n_features_to_select=18)\n",
    "x_rfe=rfe.fit_transform(of_X_train,of_y_train)\n",
    "#get the selected features\n",
    "selected_features = X.columns[rfe.support_]\n",
    "model.fit(of_X_train[selected_features], of_y_train)\n",
    "\n",
    "# Make predictions\n",
    "y_pred = model.predict(X_val[selected_features])\n",
    "\n",
    "# Display the metrics of the best model\n",
    "print(f\"Selected Features: {selected_features}\")\n",
    "print(f\"Coefficients: {model.coef_}\")\n",
    "print('Mean squared error: %.5f' % np.sqrt(mean_squared_error(y_val, y_pred)))\n",
    "print('Coefficient of determination: %.5f' % r2_score(y_val, y_pred))\n",
    "\n",
    "# Plot the predictions against the actual values\n",
    "plt.scatter(y_val, y_pred)\n",
    "plt.xlabel('Actual Pawpularity')\n",
    "plt.ylabel('Predicted Pawpularity')\n",
    "plt.title('Actual vs Predicted Pawpularity')\n",
    "plt.show()"
   ]
  },
  {
   "cell_type": "markdown",
   "metadata": {},
   "source": [
    "This looks too good to be true - overfitting? data leakage?\n",
    "Lets do some cross validation"
   ]
  },
  {
   "cell_type": "code",
   "execution_count": 17,
   "metadata": {},
   "outputs": [
    {
     "name": "stdout",
     "output_type": "stream",
     "text": [
      "Cross validation scores:  [1. 1. 1. 1. 1.]\n",
      "Average cross-validation scroe:  1.0\n"
     ]
    }
   ],
   "source": [
    "# Perform cross validation on the training set\n",
    "from sklearn.model_selection import cross_val_score\n",
    "\n",
    "X = train_data.iloc[:, 1:-1]\n",
    "y = train_data['Pawpularity']\n",
    "\n",
    "# Test the model with cross validation\n",
    "scores = cross_val_score(model, X, y, cv=5)\n",
    "print(\"Cross validation scores: \", scores)\n",
    "print(\"Average cross-validation scroe: \", scores.mean())"
   ]
  },
  {
   "cell_type": "code",
   "execution_count": null,
   "metadata": {},
   "outputs": [],
   "source": [
    "# Train the model on the entire training set\n",
    "model.fit(X, y)\n"
   ]
  },
  {
   "cell_type": "code",
   "execution_count": null,
   "metadata": {},
   "outputs": [
    {
     "ename": "",
     "evalue": "",
     "output_type": "error",
     "traceback": [
      "\u001b[1;31mRunning cells with 'c:\\Users\\HP\\Desktop\\SLURM outing\\.conda\\python.exe' requires the ipykernel package.\n",
      "\u001b[1;31mRun the following command to install 'ipykernel' into the Python environment. \n",
      "\u001b[1;31mCommand: 'conda install -p c:\\Users\\HP\\Desktop\\SLURM outing\\.conda ipykernel --update-deps --force-reinstall'"
     ]
    }
   ],
   "source": [
    "conda install -c conda-forge::mahotas"
   ]
  },
  {
   "cell_type": "code",
   "execution_count": 13,
   "metadata": {},
   "outputs": [
    {
     "ename": "ModuleNotFoundError",
     "evalue": "No module named 'mahotas'",
     "output_type": "error",
     "traceback": [
      "\u001b[1;31m---------------------------------------------------------------------------\u001b[0m",
      "\u001b[1;31mModuleNotFoundError\u001b[0m                       Traceback (most recent call last)",
      "Cell \u001b[1;32mIn[13], line 1\u001b[0m\n\u001b[1;32m----> 1\u001b[0m \u001b[38;5;28;01mfrom\u001b[39;00m \u001b[38;5;21;01mimg_ft_extract\u001b[39;00m \u001b[38;5;28;01mimport\u001b[39;00m feat_extract\n\u001b[0;32m      3\u001b[0m \u001b[38;5;66;03m# Get a list with the Ids of the images in the test set\u001b[39;00m\n\u001b[0;32m      4\u001b[0m test_ids \u001b[38;5;241m=\u001b[39m pd\u001b[38;5;241m.\u001b[39mread_csv(\u001b[38;5;124m'\u001b[39m\u001b[38;5;124mtest.csv\u001b[39m\u001b[38;5;124m'\u001b[39m)[\u001b[38;5;124m'\u001b[39m\u001b[38;5;124mId\u001b[39m\u001b[38;5;124m'\u001b[39m]\n",
      "File \u001b[1;32mc:\\Users\\HP\\OneDrive - Universidade do Porto\\Documentos\\UNIVERSIDADE\\4 ano\\DACO\\Projeto\\petfinder-pawpularity-score\\img_ft_extract.py:12\u001b[0m\n\u001b[0;32m     10\u001b[0m \u001b[38;5;28;01mfrom\u001b[39;00m \u001b[38;5;21;01mskimage\u001b[39;00m \u001b[38;5;28;01mimport\u001b[39;00m img_as_ubyte\n\u001b[0;32m     11\u001b[0m \u001b[38;5;28;01mfrom\u001b[39;00m \u001b[38;5;21;01mskimage\u001b[39;00m\u001b[38;5;21;01m.\u001b[39;00m\u001b[38;5;21;01mfeature\u001b[39;00m \u001b[38;5;28;01mimport\u001b[39;00m local_binary_pattern\n\u001b[1;32m---> 12\u001b[0m \u001b[38;5;28;01mimport\u001b[39;00m \u001b[38;5;21;01mmahotas\u001b[39;00m\n\u001b[0;32m     13\u001b[0m \u001b[38;5;28;01mfrom\u001b[39;00m \u001b[38;5;21;01mskimage\u001b[39;00m\u001b[38;5;21;01m.\u001b[39;00m\u001b[38;5;21;01mfeature\u001b[39;00m \u001b[38;5;28;01mimport\u001b[39;00m hog\n\u001b[0;32m     14\u001b[0m \u001b[38;5;28;01mfrom\u001b[39;00m \u001b[38;5;21;01mpathlib\u001b[39;00m \u001b[38;5;28;01mimport\u001b[39;00m Path\n",
      "\u001b[1;31mModuleNotFoundError\u001b[0m: No module named 'mahotas'"
     ]
    }
   ],
   "source": [
    "from img_ft_extract import feat_extract\n",
    "\n",
    "# Get a list with the Ids of the images in the test set\n",
    "test_ids = pd.read_csv('test.csv')['Id']\n",
    "\n",
    "# Extract the features from the test set\n",
    "test_image_data = feat_extract(test_ids)\n",
    "test_image_data.head()"
   ]
  }
 ],
 "metadata": {
  "kernelspec": {
   "display_name": "Python 3",
   "language": "python",
   "name": "python3"
  },
  "language_info": {
   "codemirror_mode": {
    "name": "ipython",
    "version": 3
   },
   "file_extension": ".py",
   "mimetype": "text/x-python",
   "name": "python",
   "nbconvert_exporter": "python",
   "pygments_lexer": "ipython3",
   "version": "3.10.13"
  }
 },
 "nbformat": 4,
 "nbformat_minor": 2
}
